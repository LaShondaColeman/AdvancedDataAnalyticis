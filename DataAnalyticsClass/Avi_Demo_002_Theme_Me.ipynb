{
 "cells": [
  {
   "cell_type": "markdown",
   "metadata": {},
   "source": [
    "# Avi's Demo 2: Theme Me"
   ]
  },
  {
   "cell_type": "code",
   "execution_count": 7,
   "metadata": {},
   "outputs": [],
   "source": [
    "# install jupyterthemes\n",
    "#!pip install jupyterthemes"
   ]
  },
  {
   "cell_type": "code",
   "execution_count": 8,
   "metadata": {},
   "outputs": [],
   "source": [
    "# upgrade to latest version\n",
    "#!pip install --upgrade jupyterthemes"
   ]
  },
  {
   "cell_type": "code",
   "execution_count": 9,
   "metadata": {},
   "outputs": [],
   "source": [
    "# toggle toolbar ON and notebook name ON\n",
    "#!jt -t solarizedd -T -N"
   ]
  },
  {
   "cell_type": "markdown",
   "metadata": {},
   "source": [
    "# Instructions\n",
    "1. Uncomment out the 2nd lines of cells 2, 3 and 4 (all the cells above)\n",
    "2. Run the entire notebook\n",
    "3. Re-comment everything above\n",
    "4. Close this notebook, and close Jupyter Notebook entirely\n",
    "5. Reopen Jupyter Notebook completely, and you should see something different ;)\n",
    "\n",
    "https://github.com/dunovank/jupyter-themes"
   ]
  },
  {
   "cell_type": "code",
   "execution_count": null,
   "metadata": {},
   "outputs": [],
   "source": []
  }
 ],
 "metadata": {
  "kernelspec": {
   "display_name": "Python 3",
   "language": "python",
   "name": "python3"
  },
  "language_info": {
   "codemirror_mode": {
    "name": "ipython",
    "version": 3
   },
   "file_extension": ".py",
   "mimetype": "text/x-python",
   "name": "python",
   "nbconvert_exporter": "python",
   "pygments_lexer": "ipython3",
   "version": "3.7.3"
  }
 },
 "nbformat": 4,
 "nbformat_minor": 2
}
